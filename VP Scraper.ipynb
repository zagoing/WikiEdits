{
 "cells": [
  {
   "cell_type": "code",
   "execution_count": 1,
   "metadata": {},
   "outputs": [],
   "source": [
    "import requests\n",
    "from lxml import html\n",
    "from datetime import datetime\n",
    "from datetime import timedelta"
   ]
  },
  {
   "cell_type": "code",
   "execution_count": 2,
   "metadata": {},
   "outputs": [],
   "source": [
    "def StringsToDates (List):\n",
    "    \n",
    "    newList = []\n",
    "    \n",
    "    for i in range(0, len(List)):\n",
    "        newList.append(datetime.strptime(List[i], \"%H:%M, %d %B %Y\"))\n",
    "    \n",
    "    return newList"
   ]
  },
  {
   "cell_type": "code",
   "execution_count": 3,
   "metadata": {},
   "outputs": [],
   "source": [
    "def EditsInWeek (List):\n",
    "    \n",
    "    num = 0\n",
    "    \n",
    "    week = timedelta(days=21)\n",
    "    \n",
    "    for i in range(0, len(List)):\n",
    "        \n",
    "        if ((datetime.today() - List[i]) < week):\n",
    "            num = num + 1\n",
    "    \n",
    "    return num"
   ]
  },
  {
   "cell_type": "code",
   "execution_count": 4,
   "metadata": {},
   "outputs": [],
   "source": [
    "def GetEditDates (URL):\n",
    "    page = requests.get(URL)\n",
    "    tree = html.fromstring(page.content)\n",
    "    return tree.xpath('//a[@class=\"mw-changeslist-date\"]/text()'), tree"
   ]
  },
  {
   "cell_type": "code",
   "execution_count": 5,
   "metadata": {},
   "outputs": [],
   "source": [
    "def getName(URL, tree):\n",
    "    \n",
    "    #page = requests.get(URL)\n",
    "    #tree = html.fromstring(page.content)\n",
    "    header = tree.xpath('//h1[@id=\"firstHeading\"]/text()')\n",
    "    header = header[0]\n",
    "    \n",
    "    name = \"\"\n",
    "    \n",
    "    for i in range(0,len(header)):\n",
    "        if i < len(header) - 18:\n",
    "            name = name + header[i]\n",
    "            \n",
    "    return name"
   ]
  },
  {
   "cell_type": "code",
   "execution_count": 6,
   "metadata": {},
   "outputs": [],
   "source": [
    "def EditsFromURL (URL):\n",
    "    \n",
    "    edits, tree = GetEditDates(URL)\n",
    "    edits = StringsToDates(edits)\n",
    "    \n",
    "    name = getName(URL, tree)\n",
    "    \n",
    "    print(name,\": \", EditsInWeek(edits))"
   ]
  },
  {
   "cell_type": "code",
   "execution_count": 7,
   "metadata": {},
   "outputs": [],
   "source": [
    "def EditsFromName(name):\n",
    "    name = name.replace(\" \",\"_\")\n",
    "    \n",
    "    EditsFromURL(\"https://en.wikipedia.org/w/index.php?title=\" + name + \"&offset=&limit=500&action=history\")"
   ]
  },
  {
   "cell_type": "code",
   "execution_count": 8,
   "metadata": {
    "scrolled": true
   },
   "outputs": [
    {
     "name": "stdout",
     "output_type": "stream",
     "text": [
      "Gretchen Whitmer :  4\n",
      "Hillary Clinton :  10\n",
      "Kirsten Gillibrand :  5\n",
      "Val Demings :  15\n",
      "Kamala Harris :  254\n",
      "Stacey Abrams :  28\n",
      "Amy Klobuchar :  1\n",
      "Elizabeth Warren :  17\n",
      "Katie Porter :  0\n",
      "Michelle Obama :  6\n",
      "Tammy Baldwin :  4\n",
      "Tammy Duckworth :  95\n",
      "Susan Rice :  47\n",
      "Catherine Cortez Masto :  0\n",
      "Keisha Lance Bottoms :  30\n"
     ]
    }
   ],
   "source": [
    "# VP Candidates \n",
    "\n",
    "names = [\"Gretchen Whitmer\",\"Hillary Clinton\", \"Kirsten Gillibrand\", \"Val Demings\", \"Kamala Harris\", \"Stacey Abrams\", \"Amy Klobuchar\", \"Elizabeth Warren\", \"Katie Porter\", \"Michelle Obama\", \"Tammy Baldwin\", \"Tammy Duckworth\", \"Susan Rice\", \"Catherine Cortez Masto\",\"Keisha Lance Bottoms\"]\n",
    "\n",
    "for i in range (0, len(names)):\n",
    "    EditsFromName(names[i])"
   ]
  },
  {
   "cell_type": "code",
   "execution_count": 9,
   "metadata": {},
   "outputs": [
    {
     "name": "stdout",
     "output_type": "stream",
     "text": [
      "Andrew Cuomo :  6\n",
      "Pete Buttigieg :  11\n",
      "Jay Inslee :  8\n"
     ]
    }
   ],
   "source": [
    "#Others\n",
    "\n",
    "# Cuomo, Buttigieg, Guy Standing\n",
    "EditsFromName(\"Andrew Cuomo\")\n",
    "EditsFromName(\"Pete Buttigieg\")\n",
    "EditsFromName(\"Jay Inslee\")"
   ]
  },
  {
   "cell_type": "code",
   "execution_count": null,
   "metadata": {},
   "outputs": [],
   "source": []
  }
 ],
 "metadata": {
  "kernelspec": {
   "display_name": "Python 3",
   "language": "python",
   "name": "python3"
  },
  "language_info": {
   "codemirror_mode": {
    "name": "ipython",
    "version": 3
   },
   "file_extension": ".py",
   "mimetype": "text/x-python",
   "name": "python",
   "nbconvert_exporter": "python",
   "pygments_lexer": "ipython3",
   "version": "3.7.1"
  }
 },
 "nbformat": 4,
 "nbformat_minor": 2
}
