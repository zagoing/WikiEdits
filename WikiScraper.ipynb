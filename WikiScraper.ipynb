{
 "cells": [
  {
   "cell_type": "code",
   "execution_count": 2,
   "metadata": {},
   "outputs": [],
   "source": [
    "import requests\n",
    "from lxml import html\n",
    "from datetime import datetime\n",
    "from datetime import timedelta"
   ]
  },
  {
   "cell_type": "code",
   "execution_count": 3,
   "metadata": {},
   "outputs": [],
   "source": [
    "def StringsToDates (List):\n",
    "    \n",
    "    newList = []\n",
    "    \n",
    "    for i in range(0, len(List)):\n",
    "        newList.append(datetime.strptime(List[i], \"%H:%M, %d %B %Y\"))\n",
    "    \n",
    "    return newList"
   ]
  },
  {
   "cell_type": "code",
   "execution_count": 4,
   "metadata": {},
   "outputs": [],
   "source": [
    "def EditsInWeek (List):\n",
    "    \n",
    "    num = 0\n",
    "    \n",
    "    week = timedelta(days=21)\n",
    "    \n",
    "    for i in range(0, len(List)):\n",
    "        \n",
    "        if ((datetime.today() - List[i]) < week):\n",
    "            num = num + 1\n",
    "    \n",
    "    return num"
   ]
  },
  {
   "cell_type": "code",
   "execution_count": 5,
   "metadata": {},
   "outputs": [],
   "source": [
    "def GetEditDates (URL):\n",
    "    page = requests.get(URL)\n",
    "    tree = html.fromstring(page.content)\n",
    "    return tree.xpath('//a[@class=\"mw-changeslist-date\"]/text()'), tree"
   ]
  },
  {
   "cell_type": "code",
   "execution_count": 6,
   "metadata": {},
   "outputs": [],
   "source": [
    "def getName(URL, tree):\n",
    "    \n",
    "    header = tree.xpath('//h1[@id=\"firstHeading\"]/text()')\n",
    "    header = header[0]\n",
    "    \n",
    "    name = \"\"\n",
    "    \n",
    "    for i in range(0,len(header)):\n",
    "        if i < len(header) - 18:\n",
    "            name = name + header[i]\n",
    "            \n",
    "    return name"
   ]
  },
  {
   "cell_type": "code",
   "execution_count": 7,
   "metadata": {},
   "outputs": [],
   "source": [
    "def EditsFromURL (URL):\n",
    "    \n",
    "    edits, tree = GetEditDates(URL)\n",
    "    edits = StringsToDates(edits)\n",
    "    \n",
    "    name = getName(URL, tree)\n",
    "    \n",
    "    print(name,\": \", EditsInWeek(edits))"
   ]
  },
  {
   "cell_type": "code",
   "execution_count": 8,
   "metadata": {},
   "outputs": [],
   "source": [
    "def EditsFromName(name):\n",
    "    name = name.replace(\" \",\"_\")\n",
    "    \n",
    "    EditsFromURL(\"https://en.wikipedia.org/w/index.php?title=\" + name + \"&offset=&limit=500&action=history\")"
   ]
  },
  {
   "cell_type": "code",
   "execution_count": null,
   "metadata": {},
   "outputs": [],
   "source": []
  }
 ],
 "metadata": {
  "kernelspec": {
   "display_name": "Python 3",
   "language": "python",
   "name": "python3"
  },
  "language_info": {
   "codemirror_mode": {
    "name": "ipython",
    "version": 3
   },
   "file_extension": ".py",
   "mimetype": "text/x-python",
   "name": "python",
   "nbconvert_exporter": "python",
   "pygments_lexer": "ipython3",
   "version": "3.7.1"
  }
 },
 "nbformat": 4,
 "nbformat_minor": 2
}
